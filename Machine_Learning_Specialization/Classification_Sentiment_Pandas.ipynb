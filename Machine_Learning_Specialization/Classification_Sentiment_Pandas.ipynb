{
 "cells": [
  {
   "cell_type": "markdown",
   "id": "bb0e019d",
   "metadata": {},
   "source": [
    "# Reading files and aggregating info with pandas"
   ]
  },
  {
   "cell_type": "code",
   "execution_count": 2,
   "id": "9a4eabce",
   "metadata": {},
   "outputs": [],
   "source": [
    "import pandas as pd"
   ]
  },
  {
   "cell_type": "code",
   "execution_count": 3,
   "id": "415dab64",
   "metadata": {},
   "outputs": [
    {
     "data": {
      "text/html": [
       "<div>\n",
       "<style scoped>\n",
       "    .dataframe tbody tr th:only-of-type {\n",
       "        vertical-align: middle;\n",
       "    }\n",
       "\n",
       "    .dataframe tbody tr th {\n",
       "        vertical-align: top;\n",
       "    }\n",
       "\n",
       "    .dataframe thead th {\n",
       "        text-align: right;\n",
       "    }\n",
       "</style>\n",
       "<table border=\"1\" class=\"dataframe\">\n",
       "  <thead>\n",
       "    <tr style=\"text-align: right;\">\n",
       "      <th></th>\n",
       "      <th>name</th>\n",
       "      <th>review</th>\n",
       "      <th>rating</th>\n",
       "    </tr>\n",
       "  </thead>\n",
       "  <tbody>\n",
       "    <tr>\n",
       "      <th>0</th>\n",
       "      <td>Planetwise Flannel Wipes</td>\n",
       "      <td>These flannel wipes are OK, but in my opinion ...</td>\n",
       "      <td>3</td>\n",
       "    </tr>\n",
       "    <tr>\n",
       "      <th>1</th>\n",
       "      <td>Planetwise Wipe Pouch</td>\n",
       "      <td>it came early and was not disappointed. i love...</td>\n",
       "      <td>5</td>\n",
       "    </tr>\n",
       "    <tr>\n",
       "      <th>2</th>\n",
       "      <td>Annas Dream Full Quilt with 2 Shams</td>\n",
       "      <td>Very soft and comfortable and warmer than it l...</td>\n",
       "      <td>5</td>\n",
       "    </tr>\n",
       "    <tr>\n",
       "      <th>3</th>\n",
       "      <td>Stop Pacifier Sucking without tears with Thumb...</td>\n",
       "      <td>This is a product well worth the purchase.  I ...</td>\n",
       "      <td>5</td>\n",
       "    </tr>\n",
       "    <tr>\n",
       "      <th>4</th>\n",
       "      <td>Stop Pacifier Sucking without tears with Thumb...</td>\n",
       "      <td>All of my kids have cried non-stop when I trie...</td>\n",
       "      <td>5</td>\n",
       "    </tr>\n",
       "  </tbody>\n",
       "</table>\n",
       "</div>"
      ],
      "text/plain": [
       "                                                name  \\\n",
       "0                           Planetwise Flannel Wipes   \n",
       "1                              Planetwise Wipe Pouch   \n",
       "2                Annas Dream Full Quilt with 2 Shams   \n",
       "3  Stop Pacifier Sucking without tears with Thumb...   \n",
       "4  Stop Pacifier Sucking without tears with Thumb...   \n",
       "\n",
       "                                              review  rating  \n",
       "0  These flannel wipes are OK, but in my opinion ...       3  \n",
       "1  it came early and was not disappointed. i love...       5  \n",
       "2  Very soft and comfortable and warmer than it l...       5  \n",
       "3  This is a product well worth the purchase.  I ...       5  \n",
       "4  All of my kids have cried non-stop when I trie...       5  "
      ]
     },
     "execution_count": 3,
     "metadata": {},
     "output_type": "execute_result"
    }
   ],
   "source": [
    "df = pd.read_csv('amazon_baby.csv')\n",
    "df.head()"
   ]
  },
  {
   "cell_type": "code",
   "execution_count": 13,
   "id": "46a56e83",
   "metadata": {},
   "outputs": [
    {
     "data": {
      "text/plain": [
       "name\n",
       "Vulli Sophie the Giraffe Teether                                                    779\n",
       "Simple Wishes Hands-Free Breastpump Bra, Pink, XS-L                                 560\n",
       "Infant Optics DXR-5 2.4 GHz Digital Video Baby Monitor with Night Vision            558\n",
       "Baby Einstein Take Along Tunes                                                      545\n",
       "Cloud b Twilight Constellation Night Light, Turtle                                  517\n",
       "                                                                                   ... \n",
       "Baloon Decorating Strip                                                               0\n",
       "Lamaze Play &amp; Grow, Torin the T-Rex                                               0\n",
       "Tommee Tippee Explora Trainer Cup- Random Colors Pink, Purple                         0\n",
       "Pacifiers Cool Stage 1 Twin Pack by Born Free                                         0\n",
       "Complete Swimava Pool &amp; Ring Set (Free Shipping &amp; Free Reusable Diaper!)      0\n",
       "Name: review, Length: 32417, dtype: int64"
      ]
     },
     "execution_count": 13,
     "metadata": {},
     "output_type": "execute_result"
    }
   ],
   "source": [
    "#groupby name and aggregate count and sort descending\n",
    "df.groupby(by='name')['review'].count().sort_values(ascending=False)"
   ]
  },
  {
   "cell_type": "markdown",
   "id": "4ac723c3",
   "metadata": {},
   "source": [
    "# Word count processing with pandas"
   ]
  },
  {
   "cell_type": "code",
   "execution_count": 14,
   "id": "7e718576",
   "metadata": {},
   "outputs": [],
   "source": [
    "# define some key words for features\n",
    "selected_words = ['awesome', 'great', 'fantastic', 'amazing', 'love', 'horrible', 'bad', 'terrible', 'awful', 'wow', 'hate']"
   ]
  },
  {
   "cell_type": "code",
   "execution_count": 56,
   "id": "e79c0275",
   "metadata": {},
   "outputs": [],
   "source": [
    "def create_word_dictionary(review, selected_words):\n",
    "    #row level counters\n",
    "    row_word_dict = {}\n",
    "    \n",
    "    #init dictionary with 0 count\n",
    "    for wd in selected_words:\n",
    "        row_word_dict[wd] = 0\n",
    "    \n",
    "    #split sentence into words\n",
    "    word_lst = review.split()\n",
    "    \n",
    "    #clean up punctuations\n",
    "    for w in word_lst:\n",
    "        w = w.strip()\n",
    "        \n",
    "    #create row count dictionary\n",
    "    for word in word_lst:\n",
    "        if word in row_word_dict:\n",
    "            row_word_dict[word] += 1\n",
    "            \n",
    "    return row_word_dict"
   ]
  },
  {
   "cell_type": "markdown",
   "id": "4b1cdd15",
   "metadata": {},
   "source": [
    "# parsing each review line to get word counts"
   ]
  },
  {
   "cell_type": "code",
   "execution_count": 59,
   "id": "2485ac8f",
   "metadata": {},
   "outputs": [
    {
     "name": "stdout",
     "output_type": "stream",
     "text": [
      "[(1683, 'awesome'), (37056, 'great'), (807, 'fantastic'), (1164, 'amazing'), (33667, 'love'), (637, 'horrible'), (3599, 'bad'), (659, 'terrible'), (337, 'awful'), (54, 'wow'), (1089, 'hate')]\n"
     ]
    }
   ],
   "source": [
    "#global cnt\n",
    "global_word_dict = {}\n",
    "tuple_lst = []\n",
    "\n",
    "#init dictionary with 0 count\n",
    "for wd in selected_words:\n",
    "    global_word_dict[wd] = 0\n",
    "\n",
    "#row level cnt\n",
    "awesome_cnt_lst = []\n",
    "amazing_cnt_lst = []\n",
    "wow_cnt_lst = []\n",
    "fantastic_cnt_lst = []\n",
    "love_cnt_lst = []\n",
    "great_cnt_lst = []\n",
    "horrible_cnt_lst = []\n",
    "bad_cnt_lst = []\n",
    "terrible_cnt_lst = []\n",
    "awful_cnt_lst = []\n",
    "hate_cnt_lst = []\n",
    "\n",
    "for review in df['review']:\n",
    "    #clean words\n",
    "    row_word_dict = create_word_dictionary(str(review), selected_words)\n",
    "    \n",
    "    #each row to add to both counts\n",
    "    awesome_cnt_lst.append(row_word_dict['awesome'])\n",
    "    amazing_cnt_lst.append(row_word_dict['amazing'])\n",
    "    wow_cnt_lst.append(row_word_dict['wow'])\n",
    "    fantastic_cnt_lst.append(row_word_dict['fantastic'])\n",
    "    love_cnt_lst.append(row_word_dict['love'])\n",
    "    great_cnt_lst.append(row_word_dict['great'])\n",
    "    horrible_cnt_lst.append(row_word_dict['horrible'])\n",
    "    bad_cnt_lst.append(row_word_dict['bad'])\n",
    "    terrible_cnt_lst.append(row_word_dict['terrible'])\n",
    "    awful_cnt_lst.append(row_word_dict['awful'])\n",
    "    hate_cnt_lst.append(row_word_dict['hate'])\n",
    "    \n",
    "    #global_word_dict\n",
    "    for key,val in row_word_dict.items():\n",
    "        global_word_dict[key] += val\n",
    "    \n",
    "#only use selected_words to aggregate\n",
    "for key,val in global_word_dict.items():\n",
    "    tuple_lst.append((val,key))\n",
    "\n",
    "print(tuple_lst)"
   ]
  },
  {
   "cell_type": "code",
   "execution_count": 60,
   "id": "1f08aa4b",
   "metadata": {},
   "outputs": [
    {
     "data": {
      "text/plain": [
       "[(54, 'wow'),\n",
       " (337, 'awful'),\n",
       " (637, 'horrible'),\n",
       " (659, 'terrible'),\n",
       " (807, 'fantastic'),\n",
       " (1089, 'hate'),\n",
       " (1164, 'amazing'),\n",
       " (1683, 'awesome'),\n",
       " (3599, 'bad'),\n",
       " (33667, 'love'),\n",
       " (37056, 'great')]"
      ]
     },
     "execution_count": 60,
     "metadata": {},
     "output_type": "execute_result"
    }
   ],
   "source": [
    "sorted(tuple_lst)"
   ]
  },
  {
   "cell_type": "markdown",
   "id": "5aaeeb23",
   "metadata": {},
   "source": [
    "# Adding extracted features data into dataframe"
   ]
  },
  {
   "cell_type": "code",
   "execution_count": 63,
   "id": "77e06b0c",
   "metadata": {},
   "outputs": [
    {
     "data": {
      "text/html": [
       "<div>\n",
       "<style scoped>\n",
       "    .dataframe tbody tr th:only-of-type {\n",
       "        vertical-align: middle;\n",
       "    }\n",
       "\n",
       "    .dataframe tbody tr th {\n",
       "        vertical-align: top;\n",
       "    }\n",
       "\n",
       "    .dataframe thead th {\n",
       "        text-align: right;\n",
       "    }\n",
       "</style>\n",
       "<table border=\"1\" class=\"dataframe\">\n",
       "  <thead>\n",
       "    <tr style=\"text-align: right;\">\n",
       "      <th></th>\n",
       "      <th>name</th>\n",
       "      <th>review</th>\n",
       "      <th>rating</th>\n",
       "      <th>awesome</th>\n",
       "      <th>amazing</th>\n",
       "      <th>wow</th>\n",
       "      <th>fantastic</th>\n",
       "      <th>love</th>\n",
       "      <th>great</th>\n",
       "      <th>horrible</th>\n",
       "      <th>bad</th>\n",
       "      <th>terrible</th>\n",
       "      <th>awful</th>\n",
       "      <th>hate</th>\n",
       "    </tr>\n",
       "  </thead>\n",
       "  <tbody>\n",
       "    <tr>\n",
       "      <th>183526</th>\n",
       "      <td>Baby Teething Necklace for Mom Pretty Donut Sh...</td>\n",
       "      <td>Such a great idea! very handy to have and look...</td>\n",
       "      <td>5</td>\n",
       "      <td>0</td>\n",
       "      <td>0</td>\n",
       "      <td>0</td>\n",
       "      <td>0</td>\n",
       "      <td>0</td>\n",
       "      <td>2</td>\n",
       "      <td>0</td>\n",
       "      <td>0</td>\n",
       "      <td>0</td>\n",
       "      <td>0</td>\n",
       "      <td>0</td>\n",
       "    </tr>\n",
       "    <tr>\n",
       "      <th>183527</th>\n",
       "      <td>Baby Teething Necklace for Mom Pretty Donut Sh...</td>\n",
       "      <td>This product rocks!  It is a great blend of fu...</td>\n",
       "      <td>5</td>\n",
       "      <td>0</td>\n",
       "      <td>0</td>\n",
       "      <td>0</td>\n",
       "      <td>0</td>\n",
       "      <td>0</td>\n",
       "      <td>1</td>\n",
       "      <td>0</td>\n",
       "      <td>0</td>\n",
       "      <td>0</td>\n",
       "      <td>0</td>\n",
       "      <td>0</td>\n",
       "    </tr>\n",
       "    <tr>\n",
       "      <th>183528</th>\n",
       "      <td>Abstract 2 PK Baby / Toddler Training Cup (Pink)</td>\n",
       "      <td>This item looks great and cool for my kids.......</td>\n",
       "      <td>5</td>\n",
       "      <td>0</td>\n",
       "      <td>0</td>\n",
       "      <td>0</td>\n",
       "      <td>0</td>\n",
       "      <td>0</td>\n",
       "      <td>2</td>\n",
       "      <td>0</td>\n",
       "      <td>0</td>\n",
       "      <td>0</td>\n",
       "      <td>0</td>\n",
       "      <td>0</td>\n",
       "    </tr>\n",
       "    <tr>\n",
       "      <th>183529</th>\n",
       "      <td>Baby Food Freezer Tray - Bacteria Resistant, B...</td>\n",
       "      <td>I am extremely happy with this product. I have...</td>\n",
       "      <td>5</td>\n",
       "      <td>0</td>\n",
       "      <td>0</td>\n",
       "      <td>0</td>\n",
       "      <td>0</td>\n",
       "      <td>0</td>\n",
       "      <td>0</td>\n",
       "      <td>0</td>\n",
       "      <td>0</td>\n",
       "      <td>0</td>\n",
       "      <td>0</td>\n",
       "      <td>0</td>\n",
       "    </tr>\n",
       "    <tr>\n",
       "      <th>183530</th>\n",
       "      <td>Best 2 Pack Baby Car Shade for Kids - Window S...</td>\n",
       "      <td>I love this product very mush . I have bought ...</td>\n",
       "      <td>5</td>\n",
       "      <td>0</td>\n",
       "      <td>0</td>\n",
       "      <td>0</td>\n",
       "      <td>0</td>\n",
       "      <td>1</td>\n",
       "      <td>0</td>\n",
       "      <td>0</td>\n",
       "      <td>0</td>\n",
       "      <td>0</td>\n",
       "      <td>0</td>\n",
       "      <td>0</td>\n",
       "    </tr>\n",
       "  </tbody>\n",
       "</table>\n",
       "</div>"
      ],
      "text/plain": [
       "                                                     name  \\\n",
       "183526  Baby Teething Necklace for Mom Pretty Donut Sh...   \n",
       "183527  Baby Teething Necklace for Mom Pretty Donut Sh...   \n",
       "183528   Abstract 2 PK Baby / Toddler Training Cup (Pink)   \n",
       "183529  Baby Food Freezer Tray - Bacteria Resistant, B...   \n",
       "183530  Best 2 Pack Baby Car Shade for Kids - Window S...   \n",
       "\n",
       "                                                   review  rating  awesome  \\\n",
       "183526  Such a great idea! very handy to have and look...       5        0   \n",
       "183527  This product rocks!  It is a great blend of fu...       5        0   \n",
       "183528  This item looks great and cool for my kids.......       5        0   \n",
       "183529  I am extremely happy with this product. I have...       5        0   \n",
       "183530  I love this product very mush . I have bought ...       5        0   \n",
       "\n",
       "        amazing  wow  fantastic  love  great  horrible  bad  terrible  awful  \\\n",
       "183526        0    0          0     0      2         0    0         0      0   \n",
       "183527        0    0          0     0      1         0    0         0      0   \n",
       "183528        0    0          0     0      2         0    0         0      0   \n",
       "183529        0    0          0     0      0         0    0         0      0   \n",
       "183530        0    0          0     1      0         0    0         0      0   \n",
       "\n",
       "        hate  \n",
       "183526     0  \n",
       "183527     0  \n",
       "183528     0  \n",
       "183529     0  \n",
       "183530     0  "
      ]
     },
     "execution_count": 63,
     "metadata": {},
     "output_type": "execute_result"
    }
   ],
   "source": [
    "#put back these words as features columns\n",
    "df['awesome'] = awesome_cnt_lst\n",
    "df['amazing'] = amazing_cnt_lst\n",
    "df['wow'] = wow_cnt_lst\n",
    "df['fantastic'] = fantastic_cnt_lst\n",
    "df['love'] = love_cnt_lst\n",
    "df['great'] = great_cnt_lst\n",
    "df['horrible'] = horrible_cnt_lst\n",
    "df['bad'] = bad_cnt_lst\n",
    "df['terrible'] = terrible_cnt_lst\n",
    "df['awful'] = awful_cnt_lst\n",
    "df['hate'] = hate_cnt_lst\n",
    "\n",
    "df.tail()"
   ]
  },
  {
   "cell_type": "markdown",
   "id": "689fd4f4",
   "metadata": {},
   "source": [
    "# train test split and training preps"
   ]
  },
  {
   "cell_type": "code",
   "execution_count": 64,
   "id": "c3540b7e",
   "metadata": {},
   "outputs": [
    {
     "name": "stdout",
     "output_type": "stream",
     "text": [
      "Training data set has 146824 rows\n",
      "                                                     name  \\\n",
      "28099   DaVinci Kalani 4-in-1 Convertible Crib with To...   \n",
      "32711   Medela Pump In Style 9 Volt Advanced Breastpum...   \n",
      "20322   NUK Toddler Tooth and Gum Cleanser, 1.4 Ounce,...   \n",
      "155609  The First Years 6 Count Take &amp; Toss Snack ...   \n",
      "179351           Mud Pie Forest Animal Stroller Toys, Fox   \n",
      "\n",
      "                                                   review  rating  awesome  \\\n",
      "28099   I have 3 of these cribs. Two of them have been...       5        0   \n",
      "32711   I have no problems with this battery pack; wor...       5        0   \n",
      "20322   My son is 15 months and has had teeth since we...       3        0   \n",
      "155609  i DONT like the fact that they dont come with ...       4        0   \n",
      "179351  This will work great on our stroller or travel...       5        0   \n",
      "\n",
      "        amazing  wow  fantastic  love  great  horrible  bad  terrible  awful  \\\n",
      "28099         0    0          0     0      0         0    0         1      0   \n",
      "32711         0    0          0     0      0         0    0         0      0   \n",
      "20322         0    0          0     0      0         0    0         0      0   \n",
      "155609        0    0          0     1      0         0    0         0      0   \n",
      "179351        0    0          0     0      1         0    0         0      0   \n",
      "\n",
      "        hate  \n",
      "28099      0  \n",
      "32711      0  \n",
      "20322      0  \n",
      "155609     0  \n",
      "179351     0  \n"
     ]
    }
   ],
   "source": [
    "#train test split 80%, 20%\n",
    "from sklearn.model_selection import train_test_split\n",
    "df_train, df_test = train_test_split(df, test_size=0.2)\n",
    "print(\"Training data set has {} rows\".format(len(df_train)))\n",
    "print(df_train.head())"
   ]
  },
  {
   "cell_type": "code",
   "execution_count": null,
   "id": "c0bcac92",
   "metadata": {},
   "outputs": [],
   "source": []
  }
 ],
 "metadata": {
  "kernelspec": {
   "display_name": "Python 3 (ipykernel)",
   "language": "python",
   "name": "python3"
  },
  "language_info": {
   "codemirror_mode": {
    "name": "ipython",
    "version": 3
   },
   "file_extension": ".py",
   "mimetype": "text/x-python",
   "name": "python",
   "nbconvert_exporter": "python",
   "pygments_lexer": "ipython3",
   "version": "3.7.13"
  }
 },
 "nbformat": 4,
 "nbformat_minor": 5
}
